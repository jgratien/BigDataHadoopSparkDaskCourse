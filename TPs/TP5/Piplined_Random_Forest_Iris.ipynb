{
 "cells": [
  {
   "cell_type": "code",
   "execution_count": 1,
   "metadata": {},
   "outputs": [],
   "source": [
    "import pyspark\n",
    "from pyspark import SparkContext\n",
    "from pyspark.sql import Row\n",
    "from pyspark.sql import SQLContext\n",
    "from pyspark import SparkFiles\n",
    "import os\n",
    "import pandas as pd"
   ]
  },
  {
   "cell_type": "code",
   "execution_count": 2,
   "metadata": {},
   "outputs": [
    {
     "name": "stderr",
     "output_type": "stream",
     "text": [
      "/usr/local/spark/python/pyspark/sql/context.py:77: FutureWarning: Deprecated in 3.0.0. Use SparkSession.builder.getOrCreate() instead.\n",
      "  warnings.warn(\n"
     ]
    }
   ],
   "source": [
    "\"\"\"----------------------------------------------------------------------------\n",
    "CREATE SPARK CONTEXT\n",
    "CREATE SQL CONTEXT\n",
    "----------------------------------------------------------------------------\"\"\"\n",
    "sc = SparkContext.getOrCreate()\n",
    "#sc =SparkContext()\n",
    "sqlContext = SQLContext(sc)"
   ]
  },
  {
   "cell_type": "code",
   "execution_count": 1,
   "metadata": {},
   "outputs": [],
   "source": []
  },
  {
   "cell_type": "code",
   "execution_count": 3,
   "metadata": {},
   "outputs": [
    {
     "name": "stdout",
     "output_type": "stream",
     "text": [
      "     sepal_length  sepal_width  petal_length  petal_width    variety\n",
      "0             5.1          3.5           1.4          0.2     Setosa\n",
      "1             4.9          3.0           1.4          0.2     Setosa\n",
      "2             4.7          3.2           1.3          0.2     Setosa\n",
      "3             4.6          3.1           1.5          0.2     Setosa\n",
      "4             5.0          3.6           1.4          0.2     Setosa\n",
      "..            ...          ...           ...          ...        ...\n",
      "145           6.7          3.0           5.2          2.3  Virginica\n",
      "146           6.3          2.5           5.0          1.9  Virginica\n",
      "147           6.5          3.0           5.2          2.0  Virginica\n",
      "148           6.2          3.4           5.4          2.3  Virginica\n",
      "149           5.9          3.0           5.1          1.8  Virginica\n",
      "\n",
      "[150 rows x 5 columns]\n"
     ]
    }
   ],
   "source": [
    "#data_dir=\"/work/irlin355_1/gratienj/ParallelProgrammingCourse/BigDataHadoopSpark/TPs/data\"\n",
    "#file = os.path.join(data_dir,\"iris.csv\")\n",
    "panda_df = pd.read_csv(\"iris.csv\")\n",
    "print(panda_df)\n",
    "\n"
   ]
  },
  {
   "cell_type": "code",
   "execution_count": 4,
   "metadata": {},
   "outputs": [
    {
     "name": "stdout",
     "output_type": "stream",
     "text": [
      "root\n",
      " |-- sepal_length: double (nullable = true)\n",
      " |-- sepal_width: double (nullable = true)\n",
      " |-- petal_length: double (nullable = true)\n",
      " |-- petal_width: double (nullable = true)\n",
      " |-- variety: string (nullable = true)\n",
      "\n"
     ]
    }
   ],
   "source": [
    "iris_df=sqlContext.createDataFrame(panda_df)\n",
    "iris_df.printSchema()"
   ]
  },
  {
   "cell_type": "code",
   "execution_count": 5,
   "metadata": {},
   "outputs": [
    {
     "name": "stdout",
     "output_type": "stream",
     "text": [
      "root\n",
      " |-- sepal_length: double (nullable = true)\n",
      " |-- sepal_width: double (nullable = true)\n",
      " |-- petal_length: double (nullable = true)\n",
      " |-- petal_width: double (nullable = true)\n",
      " |-- variety: string (nullable = true)\n",
      " |-- ind_variety: double (nullable = false)\n",
      "\n"
     ]
    },
    {
     "data": {
      "text/plain": [
       "[Row(variety='Setosa', ind_variety=0.0),\n",
       " Row(variety='Versicolor', ind_variety=1.0),\n",
       " Row(variety='Virginica', ind_variety=2.0)]"
      ]
     },
     "execution_count": 5,
     "metadata": {},
     "output_type": "execute_result"
    }
   ],
   "source": [
    "#Add a numeric indexer for the label/target column\n",
    "from pyspark.ml.feature import StringIndexer\n",
    "stringIndexer = StringIndexer(inputCol=\"variety\", outputCol=\"ind_variety\")\n",
    "si_model = stringIndexer.fit(iris_df)\n",
    "\n",
    "irisNormDf = si_model.transform(iris_df)\n",
    "irisNormDf.printSchema()\n",
    "irisNormDf.select(\"variety\",\"ind_variety\").distinct().collect()"
   ]
  },
  {
   "cell_type": "code",
   "execution_count": 6,
   "metadata": {},
   "outputs": [
    {
     "name": "stdout",
     "output_type": "stream",
     "text": [
      "+-------+------------------+------------------+------------------+------------------+---------+------------------+\n",
      "|summary|      sepal_length|       sepal_width|      petal_length|       petal_width|  variety|       ind_variety|\n",
      "+-------+------------------+------------------+------------------+------------------+---------+------------------+\n",
      "|  count|               150|               150|               150|               150|      150|               150|\n",
      "|   mean| 5.843333333333334|3.0573333333333332|3.7580000000000005|1.1993333333333331|     null|               1.0|\n",
      "| stddev|0.8280661279778632|0.4358662849366984| 1.765298233259466|0.7622376689603464|     null|0.8192319205190405|\n",
      "|    min|               4.3|               2.0|               1.0|               0.1|   Setosa|               0.0|\n",
      "|    max|               7.9|               4.4|               6.9|               2.5|Virginica|               2.0|\n",
      "+-------+------------------+------------------+------------------+------------------+---------+------------------+\n",
      "\n"
     ]
    }
   ],
   "source": [
    "\"\"\"--------------------------------------------------------------------------\n",
    "Perform Data Analytics\n",
    "-------------------------------------------------------------------------\"\"\"\n",
    "\n",
    "#See standard parameters\n",
    "irisNormDf.describe().show()\n"
   ]
  },
  {
   "cell_type": "code",
   "execution_count": 7,
   "metadata": {},
   "outputs": [
    {
     "name": "stdout",
     "output_type": "stream",
     "text": [
      "+-------+-----+-----------------+\n",
      "|species|label|         features|\n",
      "+-------+-----+-----------------+\n",
      "| Setosa|  0.0|[5.1,3.5,1.4,0.2]|\n",
      "| Setosa|  0.0|[4.9,3.0,1.4,0.2]|\n",
      "| Setosa|  0.0|[4.7,3.2,1.3,0.2]|\n",
      "| Setosa|  0.0|[4.6,3.1,1.5,0.2]|\n",
      "| Setosa|  0.0|[5.0,3.6,1.4,0.2]|\n",
      "| Setosa|  0.0|[5.4,3.9,1.7,0.4]|\n",
      "| Setosa|  0.0|[4.6,3.4,1.4,0.3]|\n",
      "| Setosa|  0.0|[5.0,3.4,1.5,0.2]|\n",
      "| Setosa|  0.0|[4.4,2.9,1.4,0.2]|\n",
      "| Setosa|  0.0|[4.9,3.1,1.5,0.1]|\n",
      "| Setosa|  0.0|[5.4,3.7,1.5,0.2]|\n",
      "| Setosa|  0.0|[4.8,3.4,1.6,0.2]|\n",
      "| Setosa|  0.0|[4.8,3.0,1.4,0.1]|\n",
      "| Setosa|  0.0|[4.3,3.0,1.1,0.1]|\n",
      "| Setosa|  0.0|[5.8,4.0,1.2,0.2]|\n",
      "| Setosa|  0.0|[5.7,4.4,1.5,0.4]|\n",
      "| Setosa|  0.0|[5.4,3.9,1.3,0.4]|\n",
      "| Setosa|  0.0|[5.1,3.5,1.4,0.3]|\n",
      "| Setosa|  0.0|[5.7,3.8,1.7,0.3]|\n",
      "| Setosa|  0.0|[5.1,3.8,1.5,0.3]|\n",
      "| Setosa|  0.0|[5.4,3.4,1.7,0.2]|\n",
      "| Setosa|  0.0|[5.1,3.7,1.5,0.4]|\n",
      "| Setosa|  0.0|[4.6,3.6,1.0,0.2]|\n",
      "| Setosa|  0.0|[5.1,3.3,1.7,0.5]|\n",
      "| Setosa|  0.0|[4.8,3.4,1.9,0.2]|\n",
      "| Setosa|  0.0|[5.0,3.0,1.6,0.2]|\n",
      "| Setosa|  0.0|[5.0,3.4,1.6,0.4]|\n",
      "| Setosa|  0.0|[5.2,3.5,1.5,0.2]|\n",
      "| Setosa|  0.0|[5.2,3.4,1.4,0.2]|\n",
      "| Setosa|  0.0|[4.7,3.2,1.6,0.2]|\n",
      "| Setosa|  0.0|[4.8,3.1,1.6,0.2]|\n",
      "| Setosa|  0.0|[5.4,3.4,1.5,0.4]|\n",
      "| Setosa|  0.0|[5.2,4.1,1.5,0.1]|\n",
      "| Setosa|  0.0|[5.5,4.2,1.4,0.2]|\n",
      "| Setosa|  0.0|[4.9,3.1,1.5,0.2]|\n",
      "| Setosa|  0.0|[5.0,3.2,1.2,0.2]|\n",
      "| Setosa|  0.0|[5.5,3.5,1.3,0.2]|\n",
      "| Setosa|  0.0|[4.9,3.6,1.4,0.1]|\n",
      "| Setosa|  0.0|[4.4,3.0,1.3,0.2]|\n",
      "| Setosa|  0.0|[5.1,3.4,1.5,0.2]|\n",
      "| Setosa|  0.0|[5.0,3.5,1.3,0.3]|\n",
      "| Setosa|  0.0|[4.5,2.3,1.3,0.3]|\n",
      "| Setosa|  0.0|[4.4,3.2,1.3,0.2]|\n",
      "| Setosa|  0.0|[5.0,3.5,1.6,0.6]|\n",
      "| Setosa|  0.0|[5.1,3.8,1.9,0.4]|\n",
      "| Setosa|  0.0|[4.8,3.0,1.4,0.3]|\n",
      "| Setosa|  0.0|[5.1,3.8,1.6,0.2]|\n",
      "| Setosa|  0.0|[4.6,3.2,1.4,0.2]|\n",
      "| Setosa|  0.0|[5.3,3.7,1.5,0.2]|\n",
      "| Setosa|  0.0|[5.0,3.3,1.4,0.2]|\n",
      "+-------+-----+-----------------+\n",
      "only showing top 50 rows\n",
      "\n"
     ]
    },
    {
     "data": {
      "text/plain": [
       "DataFrame[species: string, label: double, features: vector]"
      ]
     },
     "execution_count": 7,
     "metadata": {},
     "output_type": "execute_result"
    }
   ],
   "source": [
    "\"\"\"--------------------------------------------------------------------------\n",
    "Prepare data for ML\n",
    "-------------------------------------------------------------------------\"\"\"\n",
    "\n",
    "#Transform to a Data Frame for input to Machine Learing\n",
    "#Drop columns that are not required (low correlation)\n",
    "\n",
    "from pyspark.ml.linalg import Vectors\n",
    "def transformToLabeledPoint(row) :\n",
    "    lp = ( row[\"variety\"], row[\"ind_variety\"], \\\n",
    "                Vectors.dense([row[\"sepal_length\"],\\\n",
    "                        row[\"sepal_width\"], \\\n",
    "                        row[\"petal_length\"], \\\n",
    "                        row[\"petal_width\"]]))\n",
    "    return lp\n",
    "\n",
    "\n",
    "irisLp = irisNormDf.rdd.map(transformToLabeledPoint)\n",
    "irisLpDf = sqlContext.createDataFrame(irisLp,[\"species\",\"label\", \"features\"])\n",
    "irisLpDf.select(\"species\",\"label\",\"features\").show(50)\n",
    "irisLpDf.cache()"
   ]
  },
  {
   "cell_type": "code",
   "execution_count": 8,
   "metadata": {},
   "outputs": [],
   "source": [
    "from pyspark.ml.feature import VectorIndexer\n",
    "# Index labels, adding metadata to the label column.\n",
    "# Fit on whole dataset to include all labels in index.\n",
    "labelIndexer = StringIndexer(inputCol=\"label\", outputCol=\"indexedLabel\").fit(irisLpDf)\n",
    "featureIndexer = VectorIndexer(inputCol=\"features\", outputCol=\"indexedFeatures\", maxCategories=4).fit(irisLpDf)"
   ]
  },
  {
   "cell_type": "code",
   "execution_count": 9,
   "metadata": {},
   "outputs": [],
   "source": [
    "\"\"\"--------------------------------------------------------------------------\n",
    "Perform Machine Learning\n",
    "-------------------------------------------------------------------------\"\"\"\n",
    "\n",
    "#Split into training and testing data\n",
    "(trainingData, testData) = irisLpDf.randomSplit([0.9, 0.1])\n",
    "# trainingData.count()\n",
    "# testData.count()\n",
    "# testData.collect()"
   ]
  },
  {
   "cell_type": "code",
   "execution_count": 10,
   "metadata": {},
   "outputs": [],
   "source": [
    "from pyspark.ml.classification import RandomForestClassifier\n",
    "from pyspark.ml.evaluation import MulticlassClassificationEvaluator\n",
    "# Train a RandomForest model.\n",
    "rf = RandomForestClassifier(labelCol=\"indexedLabel\", featuresCol=\"indexedFeatures\", numTrees=10)"
   ]
  },
  {
   "cell_type": "code",
   "execution_count": 11,
   "metadata": {},
   "outputs": [],
   "source": [
    "from pyspark.ml.feature import IndexToString, StringIndexer, VectorIndexer\n",
    "\n",
    "# Convert indexed labels back to original labels.\n",
    "labelConverter = IndexToString(inputCol=\"prediction\", outputCol=\"predictedLabel\",\n",
    "                               labels=labelIndexer.labels)"
   ]
  },
  {
   "cell_type": "code",
   "execution_count": 12,
   "metadata": {},
   "outputs": [],
   "source": [
    "from pyspark.ml import Pipeline\n",
    "# Chain indexers and forest in a Pipeline\n",
    "pipeline = Pipeline(stages=[labelIndexer, featureIndexer, rf, labelConverter])"
   ]
  },
  {
   "cell_type": "code",
   "execution_count": 13,
   "metadata": {},
   "outputs": [],
   "source": [
    "# Train model.  This also runs the indexers.\n",
    "model = pipeline.fit(trainingData)"
   ]
  },
  {
   "cell_type": "code",
   "execution_count": 14,
   "metadata": {},
   "outputs": [
    {
     "data": {
      "text/plain": [
       "[Row(prediction=0.0, species='Setosa', label=0.0),\n",
       " Row(prediction=0.0, species='Setosa', label=0.0),\n",
       " Row(prediction=0.0, species='Setosa', label=0.0),\n",
       " Row(prediction=0.0, species='Setosa', label=0.0),\n",
       " Row(prediction=0.0, species='Setosa', label=0.0),\n",
       " Row(prediction=0.0, species='Setosa', label=0.0),\n",
       " Row(prediction=0.0, species='Setosa', label=0.0),\n",
       " Row(prediction=0.0, species='Setosa', label=0.0),\n",
       " Row(prediction=1.0, species='Versicolor', label=1.0),\n",
       " Row(prediction=1.0, species='Versicolor', label=1.0),\n",
       " Row(prediction=1.0, species='Versicolor', label=1.0),\n",
       " Row(prediction=1.0, species='Virginica', label=2.0),\n",
       " Row(prediction=2.0, species='Virginica', label=2.0),\n",
       " Row(prediction=2.0, species='Virginica', label=2.0),\n",
       " Row(prediction=2.0, species='Virginica', label=2.0),\n",
       " Row(prediction=2.0, species='Virginica', label=2.0),\n",
       " Row(prediction=2.0, species='Virginica', label=2.0),\n",
       " Row(prediction=2.0, species='Virginica', label=2.0)]"
      ]
     },
     "execution_count": 14,
     "metadata": {},
     "output_type": "execute_result"
    }
   ],
   "source": [
    "# Make predictions.\n",
    "predictions = model.transform(testData)\n",
    "predictions.select(\"prediction\",\"species\",\"label\").collect()"
   ]
  },
  {
   "cell_type": "code",
   "execution_count": 15,
   "metadata": {},
   "outputs": [
    {
     "name": "stdout",
     "output_type": "stream",
     "text": [
      "+--------------+-----+-----------------+\n",
      "|predictedLabel|label|         features|\n",
      "+--------------+-----+-----------------+\n",
      "|           0.0|  0.0|[4.6,3.1,1.5,0.2]|\n",
      "|           0.0|  0.0|[4.8,3.0,1.4,0.1]|\n",
      "|           0.0|  0.0|[4.9,3.0,1.4,0.2]|\n",
      "|           0.0|  0.0|[5.8,4.0,1.2,0.2]|\n",
      "|           0.0|  0.0|[4.6,3.6,1.0,0.2]|\n",
      "+--------------+-----+-----------------+\n",
      "only showing top 5 rows\n",
      "\n"
     ]
    }
   ],
   "source": [
    "# Select example rows to display.\n",
    "predictions.select(\"predictedLabel\", \"label\", \"features\").show(5)\n"
   ]
  },
  {
   "cell_type": "code",
   "execution_count": 16,
   "metadata": {},
   "outputs": [
    {
     "name": "stdout",
     "output_type": "stream",
     "text": [
      "Test Error = 0.0555556\n",
      "RandomForestClassificationModel: uid=RandomForestClassifier_2c6e41fc91d8, numTrees=10, numClasses=3, numFeatures=4\n"
     ]
    }
   ],
   "source": [
    "# Select (prediction, true label) and compute test error\n",
    "evaluator = MulticlassClassificationEvaluator(\n",
    "    labelCol=\"indexedLabel\", predictionCol=\"prediction\", metricName=\"accuracy\")\n",
    "accuracy = evaluator.evaluate(predictions)\n",
    "print(\"Test Error = %g\" % (1.0 - accuracy))\n",
    "\n",
    "rfModel = model.stages[2]\n",
    "print(rfModel)  # summary only"
   ]
  },
  {
   "cell_type": "code",
   "execution_count": 17,
   "metadata": {},
   "outputs": [
    {
     "data": {
      "text/plain": [
       "[Row(prediction=0.0, species='Setosa', label=0.0),\n",
       " Row(prediction=0.0, species='Setosa', label=0.0),\n",
       " Row(prediction=0.0, species='Setosa', label=0.0),\n",
       " Row(prediction=0.0, species='Setosa', label=0.0),\n",
       " Row(prediction=0.0, species='Setosa', label=0.0),\n",
       " Row(prediction=0.0, species='Setosa', label=0.0),\n",
       " Row(prediction=0.0, species='Setosa', label=0.0),\n",
       " Row(prediction=0.0, species='Setosa', label=0.0),\n",
       " Row(prediction=1.0, species='Versicolor', label=1.0),\n",
       " Row(prediction=1.0, species='Versicolor', label=1.0),\n",
       " Row(prediction=1.0, species='Versicolor', label=1.0),\n",
       " Row(prediction=1.0, species='Virginica', label=2.0),\n",
       " Row(prediction=2.0, species='Virginica', label=2.0),\n",
       " Row(prediction=2.0, species='Virginica', label=2.0),\n",
       " Row(prediction=2.0, species='Virginica', label=2.0),\n",
       " Row(prediction=2.0, species='Virginica', label=2.0),\n",
       " Row(prediction=2.0, species='Virginica', label=2.0),\n",
       " Row(prediction=2.0, species='Virginica', label=2.0)]"
      ]
     },
     "execution_count": 17,
     "metadata": {},
     "output_type": "execute_result"
    }
   ],
   "source": [
    "#Predict on the test data\n",
    "predictions.select(\"prediction\",\"species\",\"label\").collect()\n",
    "#predictions = rfModel.transform(testData)\n",
    "#predictions.select(\"prediction\",\"species\",\"label\").collect()"
   ]
  },
  {
   "cell_type": "code",
   "execution_count": 18,
   "metadata": {},
   "outputs": [
    {
     "data": {
      "text/plain": [
       "0.9444444444444444"
      ]
     },
     "execution_count": 18,
     "metadata": {},
     "output_type": "execute_result"
    }
   ],
   "source": [
    "#Evaluate accuracy\n",
    "evaluator = MulticlassClassificationEvaluator(predictionCol=\"prediction\", \\\n",
    "                    labelCol=\"label\",metricName=\"accuracy\")\n",
    "evaluator.evaluate(predictions)  "
   ]
  },
  {
   "cell_type": "code",
   "execution_count": 19,
   "metadata": {},
   "outputs": [
    {
     "name": "stdout",
     "output_type": "stream",
     "text": [
      "+-----+----------+-----+\n",
      "|label|prediction|count|\n",
      "+-----+----------+-----+\n",
      "|  0.0|       0.0|    8|\n",
      "|  1.0|       1.0|    3|\n",
      "|  2.0|       2.0|    6|\n",
      "|  2.0|       1.0|    1|\n",
      "+-----+----------+-----+\n",
      "\n"
     ]
    }
   ],
   "source": [
    "#Draw a confusion matrix\n",
    "predictions.groupBy(\"label\",\"prediction\").count().show()"
   ]
  }
 ],
 "metadata": {
  "interpreter": {
   "hash": "ae770bb617818cf230fd1ffbbf0864674026fee100acc558b8dad184af6593f8"
  },
  "kernelspec": {
   "display_name": "Python 3 (ipykernel)",
   "language": "python",
   "name": "python3"
  },
  "language_info": {
   "codemirror_mode": {
    "name": "ipython",
    "version": 3
   },
   "file_extension": ".py",
   "mimetype": "text/x-python",
   "name": "python",
   "nbconvert_exporter": "python",
   "pygments_lexer": "ipython3",
   "version": "3.9.7"
  }
 },
 "nbformat": 4,
 "nbformat_minor": 4
}
